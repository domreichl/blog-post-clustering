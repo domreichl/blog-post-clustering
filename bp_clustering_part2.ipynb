{
 "cells": [
  {
   "cell_type": "markdown",
   "metadata": {},
   "source": [
    "# Blog Post Clustering &ndash; Part 2: Comparing Models\n",
    "\n",
    "In <a href=\"https://nbviewer.jupyter.org/github/domreichl/blog-post-clustering/blob/master/bp_clustering.ipynb\">Part 1</a>, my first notebook on blog post clustering, I used KMeans to cluster the corpus of my *<a href=\"https://www.mindcoolness.com/\">Mindcoolness</a>* blog, analyzed some model predictions, and visualized my data. In this part, I want to compare 4 different models (KMeans, NMF, LSA, LDA) and 3 model combinations (NMF-based KMeans, LSA-based KMeans, LDA-based Kmeans) and evaluate them both qualitatively and quantitatively.\n",
    "\n",
    "Overview:\n",
    "1. Modules & Data\n",
    "2. Vectorization\n",
    "3. Word Frequency\n",
    "4. Models & Model Combinations\n",
    "5. Qualitative Evaluation\n",
    "6. Quantitative Evaluation"
   ]
  },
  {
   "cell_type": "markdown",
   "metadata": {},
   "source": [
    "# 1. Modules & Data\n",
    "\n",
    "This first step simply imports the modules I will use, loads all my blog posts, filters them, and converts the html code into text."
   ]
  },
  {
   "cell_type": "code",
   "execution_count": 1,
   "metadata": {},
   "outputs": [],
   "source": [
    "import pandas as pd\n",
    "from bs4 import BeautifulSoup\n",
    "import matplotlib.pyplot as plt\n",
    "from sklearn.feature_extraction import text\n",
    "from sklearn.feature_extraction.text import CountVectorizer\n",
    "from sklearn.feature_extraction.text import TfidfVectorizer\n",
    "from sklearn.cluster import KMeans\n",
    "from sklearn.decomposition import NMF\n",
    "from sklearn.decomposition import TruncatedSVD\n",
    "from sklearn.decomposition import LatentDirichletAllocation\n",
    "from sklearn.metrics import silhouette_score, calinski_harabaz_score\n",
    "\n",
    "data = pd.read_csv('wp_posts.csv', sep=';')\n",
    "data = data[(data['post_type'] == 'post') & (data['post_status'] == 'publish')]\n",
    "data = data[['post_content']].reset_index(drop=True)\n",
    "\n",
    "for i in data.index:\n",
    "    soup = BeautifulSoup(data['post_content'].loc[i], 'html.parser')\n",
    "    data['post_content'].loc[i] = soup.get_text().lower()\n",
    "\n",
    "data = data['post_content']"
   ]
  },
  {
   "cell_type": "markdown",
   "metadata": {},
   "source": [
    "# 2. Vectorization\n",
    "\n",
    "For vectorization, I use *term frequency–inverse document frequency* (tfidf) to penalize high-frequency words with little informational value. The *TfidVectorizer* not only converts words into numbers, but also ensures that the terms defining a cluster provide enough differentiation. For example, the frequency of terms like 'the', 'a', 'is', and 'and' is likely to be high in any English corpus, so they’re of little value for document clustering. A clustering algorithm will produce much better results if the term frequency (how often a word appears in a blog post) is multiplied by the inverse document frequency (a measure of how much information the word provides). This is precisely what the *TfidVectorizer* does.\n",
    "\n",
    "The *CountVectorizer*, by contrast, uses a simple bag-of-words approach where each term is transformed into a vector based on its frequency. This is useful for plotting the top 20 words in my data, and it's also needed for Latent Dirichlet Allocation (LDA), a structured probabilistic model."
   ]
  },
  {
   "cell_type": "code",
   "execution_count": 2,
   "metadata": {},
   "outputs": [],
   "source": [
    "vectorizer = TfidfVectorizer(stop_words='english')\n",
    "tfidf = vectorizer.fit_transform(data)\n",
    "words = vectorizer.get_feature_names()\n",
    "\n",
    "tf_vectorizer = CountVectorizer(stop_words='english')\n",
    "tf = tf_vectorizer.fit_transform(data)\n",
    "tf_words = tf_vectorizer.get_feature_names()"
   ]
  },
  {
   "cell_type": "markdown",
   "metadata": {},
   "source": [
    "# 3. Word Frequency\n",
    "\n",
    "To visualize the frequency of words in my data set, I first retrieve each term and its count (vector sum) from the vocabulary, then sort all terms by count, and build a list with the 20 most frequent words as well as a list with their counts. Finally, I plot these lists in a bar chart. (Note that the most common English words were already filtered out as stop words during vectorization.)"
   ]
  },
  {
   "cell_type": "code",
   "execution_count": 3,
   "metadata": {},
   "outputs": [
    {
     "data": {
      "image/png": "[encoded data removed]",
      "text/plain": [
       "<Figure size 1152x576 with 1 Axes>"
      ]
     },
     "metadata": {
      "needs_background": "light"
     },
     "output_type": "display_data"
    }
   ],
   "source": [
    "term_frequency = [(term, tf.sum(axis=0)[0, i]) for term, i in tf_vectorizer.vocabulary_.items()]\n",
    "term_frequency = sorted(term_frequency, key = lambda x: x[1], reverse=True)\n",
    "terms, count = [], []\n",
    "for t in term_frequency[:20]:\n",
    "    terms.append(t[0])\n",
    "    count.append(t[1])\n",
    "\n",
    "fig, ax = plt.subplots(figsize=(16,8))\n",
    "ax.bar(range(len(terms)), count)\n",
    "ax.set_xticks(range(len(terms)))\n",
    "ax.set_xticklabels(terms)\n",
    "ax.set_title('Top 20 Most Frequent Words')\n",
    "ax.set_xlabel('Term')\n",
    "ax.set_ylabel('Count')\n",
    "plt.show()"
   ]
  },
  {
   "cell_type": "markdown",
   "metadata": {},
   "source": [
    "# 4. Models & Model Combinations\n",
    "\n",
    "To detect the main topics of my blog posts, I compare how they are clustered by four different models and three model combinations:\n",
    "1. NMF for <a href=\"https://en.wikipedia.org/wiki/Non-negative_matrix_factorization\">Non-negative Matrix Factorization</a> (see <a href=\"https://smartech.gatech.edu/handle/1853/20058\">Kim & Park, 2008</a>)\n",
    "2. TruncatedSVD for <a href=\"https://en.wikipedia.org/wiki/Latent_semantic_analysis\">Latent Semantic Analysis</a> (LSA)\n",
    "3. LatentDirichletAllocation for <a href=\"https://en.wikipedia.org/wiki/Latent_Dirichlet_allocation\">Latent Dirichlet Allocation</a> (LDA)\n",
    "4. KMeans for <a href=\"https://en.wikipedia.org/wiki/K-means_clustering\">k-means clustering</a>\n",
    "5. NMF-based Kmeans\n",
    "6. LSA-based Kmeans\n",
    "7. LDA-based Kmeans (see <a href=\"https://www.semanticscholar.org/paper/K-means-Document-Clustering-Based-on-Latent-Guan/9e623a64d1d3f8f73bfedc855c3b8f6861eea591\">Guan, 2016</a> and <a href=\"https://link.springer.com/chapter/10.1007/978-3-319-54472-4_24\">Bui et. al, 2017</a>)"
   ]
  },
  {
   "cell_type": "code",
   "execution_count": 4,
   "metadata": {},
   "outputs": [],
   "source": [
    "k = 4 # number of clusters/components\n",
    "\n",
    "nmf = NMF(k)\n",
    "nmf_matrix = nmf.fit_transform(tfidf)\n",
    "\n",
    "lsa = TruncatedSVD(k)\n",
    "lsa_matrix = lsa.fit_transform(tfidf)\n",
    "\n",
    "lda = LatentDirichletAllocation(k, learning_method='batch')\n",
    "lda_matrix = lda.fit_transform(tf)\n",
    "\n",
    "km = KMeans(n_clusters=k).fit(tfidf)\n",
    "\n",
    "km_nmf = KMeans(k).fit(nmf_matrix)\n",
    "\n",
    "km_lsa = KMeans(k).fit(lsa_matrix)\n",
    "\n",
    "km_lda = KMeans(k).fit(lda_matrix)"
   ]
  },
  {
   "cell_type": "markdown",
   "metadata": {},
   "source": [
    "# 5. Qualitative Evaluation"
   ]
  },
  {
   "cell_type": "markdown",
   "metadata": {},
   "source": [
    "For qualitative evaluation, I look at the three words that were most defining for each cluster produced by a model. If the word combinations make sense (i.e., if all top words of a cluster belong to a distinct category) and if there's little topical overlap between clusters, I will judge the model as good.\n",
    "\n",
    "The printing function *top_words_decomp* extracts the top three words of each cluster from the components of the decomposition models, whereas function *top_words_cluster* gets the top words from the cluster centers of the KMeans models."
   ]
  },
  {
   "cell_type": "code",
   "execution_count": 5,
   "metadata": {},
   "outputs": [
    {
     "name": "stdout",
     "output_type": "stream",
     "text": [
      " ---NMF---\n",
      "Cluster 0: meditation mindfulness flow\n",
      "Cluster 1: moral values meaning\n",
      "Cluster 2: pride humility ego\n",
      "Cluster 3: emotions willpower control\n",
      "\n",
      " ---LSA---\n",
      "Cluster 0: pride self true\n",
      "Cluster 1: moral values meaning\n",
      "Cluster 2: pride humility ego\n",
      "Cluster 3: emotions willpower control\n",
      "\n",
      " ---LDA---\n",
      "Cluster 0: pride don want\n",
      "Cluster 1: willpower brain body\n",
      "Cluster 2: self willpower control\n",
      "Cluster 3: life true mind\n",
      "\n",
      " ---K-M---\n",
      "Cluster 0: moral meaning values\n",
      "Cluster 1: mind meditation freedom\n",
      "Cluster 2: willpower control emotions\n",
      "Cluster 3: pride true goal\n",
      "\n",
      " ---NMF-KM---\n",
      "Cluster 0: willpower emotions control\n",
      "Cluster 1: moral values meaning\n",
      "Cluster 2: life meditation mindfulness\n",
      "Cluster 3: pride humility ego\n",
      "\n",
      " ---LSA-KM---\n",
      "Cluster 0: life mindfulness meditation\n",
      "Cluster 1: willpower emotions control\n",
      "Cluster 2: moral meaning values\n",
      "Cluster 3: pride humility true\n",
      "\n"
     ]
    }
   ],
   "source": [
    "def top_words_decomp(model_name, model, terms):\n",
    "    print(model_name)\n",
    "    for i, topic in enumerate(model.components_):\n",
    "        print(\"Cluster %d: \" % (i), end=\"\")\n",
    "        print(\" \".join([terms[t] for t in topic.argsort()[:-4:-1]]))\n",
    "    print()\n",
    "\n",
    "top_words_decomp(\" ---NMF---\", nmf, words)\n",
    "top_words_decomp(\" ---LSA---\", lsa, words)\n",
    "top_words_decomp(\" ---LDA---\", lda, tf_words)\n",
    "    \n",
    "def top_words_cluster(model_name, centers):\n",
    "    print(model_name)\n",
    "    for i in range(k):\n",
    "        print(\"Cluster %d: \" % i, end=\"\")\n",
    "        print(\" \".join([words[c] for c in centers[i, :3]]))\n",
    "    print()\n",
    "\n",
    "top_words_cluster(\" ---K-M---\", km.cluster_centers_.argsort()[:, ::-1])\n",
    "top_words_cluster(\" ---NMF-KM---\", nmf.inverse_transform(km_nmf.cluster_centers_).argsort()[:, ::-1])\n",
    "top_words_cluster(\" ---LSA-KM---\", lsa.inverse_transform(km_lsa.cluster_centers_).argsort()[:, ::-1])"
   ]
  },
  {
   "cell_type": "markdown",
   "metadata": {},
   "source": [
    "From what I know about the data, consisting of my own blog posts (hence easy for me to interpret), the NMF clusters are certainly the best. Their top three words neatly outline precisely the very topics I have written about the most on my blog:\n",
    "- Mindfulness\n",
    "- Ethics\n",
    "- The Psychology of Pride\n",
    "- Willpower for Self-Control\n",
    "\n",
    "Using NMF in combination with KMeans didn't seem to make much of a difference (only 'life' instead of 'flow'), whereas KMeans alone produced somewhat worse results ('pride true goal' is not as cohesive as 'pride humility ego').\n",
    "\n",
    "The LSA clusters are the same as those of NMF, except for Cluster 0, which contains less incisive terms and even a duplicate ('pride' is in cluster 0 and 2). Together with KMeans, LSA produced almost the exact same results as the NMF-KMeans combo.\n",
    "\n",
    "LDA seems to be the worst model: 'willpower' occurs twice, 'pride don want' doesn't clearly delineate a topic, and 'life true mind' is also not particularly expressive."
   ]
  },
  {
   "cell_type": "markdown",
   "metadata": {},
   "source": [
    "# 6. Quantitative Evaluation\n",
    "\n",
    "For quantitative evaluation, I use three metrics that don't require ground truth labels:\n",
    "1. *Silhouette* is a coefficient that measures consistency within clusters; it should be non-negative and the closer to 1 the better.\n",
    "2. *WCSS* or *inertia* means within-cluster sum-of-squares, which measures cluster compactness; the smaller the better.\n",
    "3. *Calinski-Harabasz* is an index calculated as the ratio of between-clusters dispertion and within-cluster dispersion, thus measuring both denseness and separateness of clusters; the larger the better."
   ]
  },
  {
   "cell_type": "code",
   "execution_count": 6,
   "metadata": {},
   "outputs": [
    {
     "data": {
      "text/html": [
       "<div>\n",
       "<style scoped>\n",
       "    .dataframe tbody tr th:only-of-type {\n",
       "        vertical-align: middle;\n",
       "    }\n",
       "\n",
       "    .dataframe tbody tr th {\n",
       "        vertical-align: top;\n",
       "    }\n",
       "\n",
       "    .dataframe thead th {\n",
       "        text-align: right;\n",
       "    }\n",
       "</style>\n",
       "<table border=\"1\" class=\"dataframe\">\n",
       "  <thead>\n",
       "    <tr style=\"text-align: right;\">\n",
       "      <th></th>\n",
       "      <th>Model</th>\n",
       "      <th>Silhouette</th>\n",
       "      <th>WCSS</th>\n",
       "      <th>Calinski-Harabasz</th>\n",
       "    </tr>\n",
       "  </thead>\n",
       "  <tbody>\n",
       "    <tr>\n",
       "      <th>0</th>\n",
       "      <td>km</td>\n",
       "      <td>0.009446</td>\n",
       "      <td>296.50</td>\n",
       "      <td>3.26</td>\n",
       "    </tr>\n",
       "    <tr>\n",
       "      <th>1</th>\n",
       "      <td>km_nmf</td>\n",
       "      <td>0.011018</td>\n",
       "      <td>2.12</td>\n",
       "      <td>3.87</td>\n",
       "    </tr>\n",
       "    <tr>\n",
       "      <th>2</th>\n",
       "      <td>km_lsa</td>\n",
       "      <td>0.011971</td>\n",
       "      <td>6.08</td>\n",
       "      <td>3.86</td>\n",
       "    </tr>\n",
       "    <tr>\n",
       "      <th>3</th>\n",
       "      <td>km_lda</td>\n",
       "      <td>-0.023403</td>\n",
       "      <td>26.36</td>\n",
       "      <td>1.97</td>\n",
       "    </tr>\n",
       "  </tbody>\n",
       "</table>\n",
       "</div>"
      ],
      "text/plain": [
       "    Model  Silhouette    WCSS  Calinski-Harabasz\n",
       "0      km    0.009446  296.50               3.26\n",
       "1  km_nmf    0.011018    2.12               3.87\n",
       "2  km_lsa    0.011971    6.08               3.86\n",
       "3  km_lda   -0.023403   26.36               1.97"
      ]
     },
     "execution_count": 6,
     "metadata": {},
     "output_type": "execute_result"
    }
   ],
   "source": [
    "evaluation = pd.DataFrame({'Model': ['km', 'km_nmf', 'km_lsa', 'km_lda']})\n",
    "\n",
    "sc, wcss, chi = [], [], []\n",
    "for model in (km, km_nmf, km_lsa, km_lda):\n",
    "    sc.append(silhouette_score(tfidf.toarray(), model.labels_))\n",
    "    wcss.append(round(model.inertia_, 2))\n",
    "    chi.append(round(calinski_harabaz_score(tfidf.toarray(), model.labels_), 2))\n",
    "    \n",
    "sc[-1] = silhouette_score(tf.toarray(), km_lda.labels_)\n",
    "\n",
    "evaluation['Silhouette'] = sc\n",
    "evaluation['WCSS'] = wcss\n",
    "evaluation['Calinski-Harabasz'] = chi\n",
    "evaluation.head()"
   ]
  },
  {
   "cell_type": "markdown",
   "metadata": {},
   "source": [
    "Although these stats aren't particularly impressive (e.g., all silhouette coefficients are almost zero), their relative values seem to be quite diagnostic:\n",
    "1. NMF-based KMeans is the best (second-highest SC, lowest WCSS, and highest CHI).\n",
    "2. LSA-based KMeans is a close second.\n",
    "3. KMeans alone is not quite as good.\n",
    "4. LDA-based KMeans is the loser (negative SC, high WCSS, low CHI).\n",
    "\n",
    "This thoroughly confirms the above quantitative analysis."
   ]
  }
 ],
 "metadata": {
  "kernelspec": {
   "display_name": "Python 3",
   "language": "python",
   "name": "python3"
  },
  "language_info": {
   "codemirror_mode": {
    "name": "ipython",
    "version": 3
   },
   "file_extension": ".py",
   "mimetype": "text/x-python",
   "name": "python",
   "nbconvert_exporter": "python",
   "pygments_lexer": "ipython3",
   "version": "3.6.6"
  }
 },
 "nbformat": 4,
 "nbformat_minor": 2
}
